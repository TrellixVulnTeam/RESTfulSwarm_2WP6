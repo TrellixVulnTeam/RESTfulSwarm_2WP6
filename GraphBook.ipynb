{
 "cells": [
  {
   "cell_type": "markdown",
   "metadata": {
    "collapsed": true
   },
   "source": [
    "# RESTfulSwarm\n"
   ]
  },
  {
   "cell_type": "code",
   "execution_count": 121,
   "metadata": {},
   "outputs": [],
   "source": [
    "%matplotlib inline\n",
    "import pymongo as mg\n",
    "from matplotlib import pyplot as plt\n",
    "import pandas as pd\n",
    "import numpy as np\n",
    "import seaborn as sns\n",
    "\n",
    "\n",
    "# return a mongodb client\n",
    "def get_client(usr, pwd, address, port='27017'):\n",
    "    url = 'mongodb://%s:%s@%s:%s/RESTfulSwarmDB' % (usr, pwd, address, port)\n",
    "    return mg.MongoClient(url)\n",
    "\n",
    "\n",
    "# return a database object\n",
    "def get_db(client, db_name):\n",
    "    return client[db_name]\n",
    "\n",
    "\n",
    "# return a collection cursor object\n",
    "def get_col(db, col_name):\n",
    "    return db[col_name]\n",
    "\n",
    "\n",
    "# query data in a job collection\n",
    "def query_col(col):\n",
    "    return list(col.find({}))[0]\n",
    "\n",
    "\n",
    "# get a list of job collection name\n",
    "def get_all_cols(db):\n",
    "     return db.collection_names()"
   ]
  },
  {
   "cell_type": "code",
   "execution_count": 122,
   "metadata": {},
   "outputs": [],
   "source": [
    "def get_time(data):\n",
    "    result = {'waiting_time': 0, 'execution_time': 0, 'total_time': 0}\n",
    "    if len(data) == 0:\n",
    "        return None\n",
    "    submit_time = data['submit_time']\n",
    "    start_time = data['start_time']\n",
    "    end_time = data['end_time']\n",
    "    \n",
    "    waiting_time = start_time - submit_time\n",
    "    result['waiting_time'] = waiting_time\n",
    "    \n",
    "    execution_time = end_time - start_time\n",
    "    result['execution_time'] = execution_time\n",
    "    \n",
    "    total_time = end_time - submit_time\n",
    "    result['total_time'] = total_time\n",
    "    return result\n"
   ]
  },
  {
   "cell_type": "code",
   "execution_count": 123,
   "metadata": {},
   "outputs": [],
   "source": [
    "def plot_graph(db):\n",
    "    cols = get_all_cols(db)\n",
    "    waiting_time = []\n",
    "    execution_time = []\n",
    "    total_time = []\n",
    "    jobs = []\n",
    "    for col in cols:\n",
    "        if 'job' not in col:\n",
    "            continue\n",
    "        col_obj = get_col(db, col)\n",
    "        job_info = query_col(col_obj)\n",
    "        result = get_time(job_info)\n",
    "        waiting_time.append(result['waiting_time'])\n",
    "        execution_time.append(result['execution_time'])\n",
    "        total_time.append(result['total_time'])\n",
    "        jobs.append(col)\n",
    "    return waiting_time, execution_time, total_time, jobs\n"
   ]
  },
  {
   "cell_type": "code",
   "execution_count": 124,
   "metadata": {},
   "outputs": [],
   "source": [
    "client = get_client('admin', 'kzw', '129.59.107.139')\n",
    "db = get_db(client, 'RESTfulSwarmDB')\n"
   ]
  },
  {
   "cell_type": "code",
   "execution_count": 125,
   "metadata": {},
   "outputs": [],
   "source": [
    "graph_data = plot_graph(db)\n",
    "waiting_time = graph_data[0]\n",
    "execution_time = graph_data[1]\n",
    "total_time = graph_data[2]\n",
    "jobs = graph_data[3]\n"
   ]
  },
  {
   "cell_type": "code",
   "execution_count": 126,
   "metadata": {},
   "outputs": [],
   "source": [
    "def plot_waiting_time():\n",
    "    wt = pd.Series(waiting_time, index=jobs)\n",
    "    wt.plot.bar(figsize=(10, 5))\n",
    "    plt.xlabel('Job')\n",
    "    plt.ylabel('Waiting Time(s)')\n",
    "    plt.title('Job Waiting Time')"
   ]
  },
  {
   "cell_type": "code",
   "execution_count": 127,
   "metadata": {},
   "outputs": [],
   "source": [
    "def plot_execution_time():\n",
    "    et = pd.Series(execution_time, index=jobs)\n",
    "    et.plot.bar(figsize=(10, 5))\n",
    "    plt.xlabel('Job')\n",
    "    plt.ylabel('Execution Time(s)')\n",
    "    plt.title('Job Execution Time')\n"
   ]
  },
  {
   "cell_type": "code",
   "execution_count": 128,
   "metadata": {},
   "outputs": [],
   "source": [
    "def plot_total_time():\n",
    "    tt = pd.Series(total_time, index=jobs)\n",
    "    tt.plot.bar(figsize=(10, 5))\n",
    "    plt.xlabel('Job')\n",
    "    plt.ylabel('Total Time(s)')\n",
    "    plt.title('Job Total Time')\n"
   ]
  },
  {
   "cell_type": "code",
   "execution_count": null,
   "metadata": {},
   "outputs": [],
   "source": [
    "def plot_resource_graph():\n",
    "    workers_resource_col = get_col(db, 'WorkersResourceInfo')\n",
    "    data = list(workers_resource_col.find({}))\n",
    "    hostnames = [worker['hostname'] for worker in data]\n",
    "    time_stamps = []\n",
    "    for worker in data:\n",
    "        for detail in worker['details']:\n",
    "            time_stamps.append(detail[0])\n",
    "    time_stamps = list(set(time_stamps))\n",
    "    time_stamps.sort()\n",
    "    utilization = np.zeros([len(hostnames), len(time_stamps)])\n",
    "            \n",
    "    def search_utilization(hostname, _time_stamp):\n",
    "        for worker in data:\n",
    "            if worker['hostname'] == hostname:\n",
    "                for _detail in worker['details']:\n",
    "                    if _detail[0] == _time_stamp:\n",
    "                        return _detail[1]\n",
    "        return -1\n",
    "    \n",
    "    for i, host in enumerate(hostnames[:]):\n",
    "        for j, time_stamp in enumerate(time_stamps[:]):\n",
    "            result = search_utilization(host, time_stamp)\n",
    "            if result != -1:\n",
    "                utilization[i, j] = result\n",
    "            else:\n",
    "                utilization[i, j] = utilization[i, j-1]\n",
    "    \n",
    "    df = pd.DataFrame(data=utilization, index=hostnames, columns=time_stamps)\n",
    "    \n",
    "    return sns.heatmap(data=df, vmin=0, vmax=1, center=0, annot=True, linewidths=0.5)"
   ]
  },
  {
   "cell_type": "markdown",
   "metadata": {
    "collapsed": true
   },
   "source": [
    "### WaitingTime vs Job\n"
   ]
  },
  {
   "cell_type": "code",
   "execution_count": null,
   "metadata": {},
   "outputs": [
    {
     "data": {
      "image/png": "[encoded data removed]",
      "text/plain": [
       "<Figure size 720x360 with 1 Axes>"
      ]
     },
     "metadata": {},
     "output_type": "display_data"
    }
   ],
   "source": [
    "plot_waiting_time()"
   ]
  },
  {
   "cell_type": "markdown",
   "metadata": {},
   "source": [
    "### ExecutionTime vs Job\n"
   ]
  },
  {
   "cell_type": "code",
   "execution_count": 131,
   "metadata": {},
   "outputs": [
    {
     "data": {
      "image/png": "[encoded data removed]",
      "text/plain": [
       "<Figure size 720x360 with 1 Axes>"
      ]
     },
     "metadata": {},
     "output_type": "display_data"
    }
   ],
   "source": [
    "plot_execution_time()\n"
   ]
  },
  {
   "cell_type": "markdown",
   "metadata": {},
   "source": [
    "### TotalTime vs Job\n"
   ]
  },
  {
   "cell_type": "code",
   "execution_count": 132,
   "metadata": {},
   "outputs": [
    {
     "data": {
      "image/png": "[encoded data removed]",
      "text/plain": [
       "<Figure size 720x360 with 1 Axes>"
      ]
     },
     "metadata": {},
     "output_type": "display_data"
    }
   ],
   "source": [
    "plot_total_time()\n"
   ]
  },
  {
   "cell_type": "markdown",
   "metadata": {},
   "source": [
    "### Workers Resource Utilization Graph\n"
   ]
  },
  {
   "cell_type": "code",
   "execution_count": 107,
   "metadata": {},
   "outputs": [
    {
     "data": {
      "text/plain": [
       "<matplotlib.axes._subplots.AxesSubplot at 0x1799de51c50>"
      ]
     },
     "execution_count": 107,
     "metadata": {},
     "output_type": "execute_result"
    },
    {
     "data": {
      "image/png": "[encoded data removed]",
      "text/plain": [
       "<Figure size 432x288 with 2 Axes>"
      ]
     },
     "metadata": {},
     "output_type": "display_data"
    }
   ],
   "source": [
    "plot_resource_graph()"
   ]
  }
 ],
 "metadata": {
  "kernelspec": {
   "display_name": "Python 3",
   "language": "python",
   "name": "python3"
  },
  "language_info": {
   "codemirror_mode": {
    "name": "ipython",
    "version": 3
   },
   "file_extension": ".py",
   "mimetype": "text/x-python",
   "name": "python",
   "nbconvert_exporter": "python",
   "pygments_lexer": "ipython3",
   "version": "3.6.5"
  }
 },
 "nbformat": 4,
 "nbformat_minor": 1
}
