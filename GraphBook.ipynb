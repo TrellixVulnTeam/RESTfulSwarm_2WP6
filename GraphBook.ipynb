{
 "cells": [
  {
   "cell_type": "markdown",
   "metadata": {
    "collapsed": true
   },
   "source": [
    "# RESTfulSwarm\n"
   ]
  },
  {
   "cell_type": "code",
   "execution_count": null,
   "metadata": {
    "collapsed": true
   },
   "outputs": [],
   "source": [
    "%matplotlib inline\n",
    "import pymongo as mg\n",
    "from matplotlib import pyplot as plt\n",
    "import pandas as pd\n",
    "import numpy as np\n",
    "import seaborn as sns\n",
    "\n",
    "\n",
    "# return a mongodb client\n",
    "def get_client(usr, pwd, address, port='27017'):\n",
    "    url = 'mongodb://%s:%s@%s:%s/RESTfulSwarmDB' % (usr, pwd, address, port)\n",
    "    return mg.MongoClient(url)\n",
    "\n",
    "\n",
    "# return a database object\n",
    "def get_db(client, db_name):\n",
    "    return client[db_name]\n",
    "\n",
    "\n",
    "# return a collection cursor object\n",
    "def get_col(db, col_name):\n",
    "    return db[col_name]\n",
    "\n",
    "\n",
    "# query data in a job collection\n",
    "def query_col(col):\n",
    "    return list(col.find({}))[0]\n",
    "\n",
    "\n",
    "# get a list of job collection name\n",
    "def get_all_cols(db):\n",
    "     return db.collection_names()"
   ]
  },
  {
   "cell_type": "code",
   "execution_count": null,
   "metadata": {
    "collapsed": true
   },
   "outputs": [],
   "source": [
    "def get_time(data):\n",
    "    result = {'waiting_time': 0, 'execution_time': 0, 'total_time': 0}\n",
    "    if len(data) == 0:\n",
    "        return None\n",
    "    submit_time = data['submit_time']\n",
    "    start_time = data['start_time']\n",
    "    end_time = data['end_time']\n",
    "    \n",
    "    waiting_time = start_time - submit_time\n",
    "    result['waiting_time'] = waiting_time\n",
    "    \n",
    "    execution_time = end_time - start_time\n",
    "    result['execution_time'] = execution_time\n",
    "    \n",
    "    total_time = end_time - submit_time\n",
    "    result['total_time'] = total_time\n",
    "    return result\n"
   ]
  },
  {
   "cell_type": "code",
   "execution_count": null,
   "metadata": {
    "collapsed": true
   },
   "outputs": [],
   "source": [
    "def plot_graph(db):\n",
    "    cols = get_all_cols(db)\n",
    "    waiting_time = []\n",
    "    execution_time = []\n",
    "    total_time = []\n",
    "    jobs = []\n",
    "    for col in cols:\n",
    "        if 'job' not in col:\n",
    "            continue\n",
    "        col_obj = get_col(db, col)\n",
    "        job_info = query_col(col_obj)\n",
    "        result = get_time(job_info)\n",
    "        waiting_time.append(result['waiting_time'])\n",
    "        execution_time.append(result['execution_time'])\n",
    "        total_time.append(result['total_time'])\n",
    "        jobs.append(col)\n",
    "    return waiting_time, execution_time, total_time, jobs\n"
   ]
  },
  {
   "cell_type": "code",
   "execution_count": null,
   "metadata": {
    "collapsed": true
   },
   "outputs": [],
   "source": [
    "client = get_client('admin', 'kzw', '129.59.107.139')\n",
    "db = get_db(client, 'RESTfulSwarmDB')\n"
   ]
  },
  {
   "cell_type": "code",
   "execution_count": null,
   "metadata": {
    "collapsed": true
   },
   "outputs": [],
   "source": [
    "graph_data = plot_graph(db)\n",
    "waiting_time = graph_data[0]\n",
    "execution_time = graph_data[1]\n",
    "total_time = graph_data[2]\n",
    "jobs = graph_data[3]\n"
   ]
  },
  {
   "cell_type": "code",
   "execution_count": null,
   "metadata": {},
   "outputs": [],
   "source": [
    "def plot_waiting_time():\n",
    "    wt = pd.Series(waiting_time, index=jobs)\n",
    "    wt.plot.bar(figsize=(10, 5))\n",
    "    plt.xlabel('Job')\n",
    "    plt.ylabel('Waiting Time(s)')\n",
    "    plt.title('Job Waiting Time')"
   ]
  },
  {
   "cell_type": "code",
   "execution_count": null,
   "metadata": {},
   "outputs": [],
   "source": [
    "def plot_execution_time():\n",
    "    et = pd.Series(execution_time, index=jobs)\n",
    "    et.plot.bar(figsize=(10, 5))\n",
    "    plt.xlabel('Job')\n",
    "    plt.ylabel('Execution Time(s)')\n",
    "    plt.title('Job Execution Time')\n"
   ]
  },
  {
   "cell_type": "code",
   "execution_count": null,
   "metadata": {},
   "outputs": [],
   "source": [
    "def plot_total_time():\n",
    "    tt = pd.Series(total_time, index=jobs)\n",
    "    tt.plot.bar(figsize=(10, 5))\n",
    "    plt.xlabel('Job')\n",
    "    plt.ylabel('Total Time(s)')\n",
    "    plt.title('Job Total Time')\n"
   ]
  },
  {
   "cell_type": "code",
   "execution_count": null,
   "metadata": {},
   "outputs": [],
   "source": [
    "def plot_resource_graph():\n",
    "    workers_resource_col = get_col(db, 'WorkersResourceInfo')\n",
    "    data = query_col(workers_resource_col)\n",
    "    hostnames = [worker['hostname'] for worker in data]\n",
    "    time_stamps = [(detail[0] for detail in worker['details']) for worker in data]\n",
    "    utilization = [(detail[1] for detail in worker['details']) for worker in data]\n",
    "    \n",
    "    data = {'Worker': hostnames, 'Time Stamp': time_stamps, 'Utilization Rate': utilization}\n",
    "    df = pd.DataFrame(data)\n",
    "    \n",
    "    return sns.heatmap(data=df, annot=True, linewidths=0.5)"
   ]
  },
  {
   "cell_type": "markdown",
   "metadata": {
    "collapsed": true
   },
   "source": [
    "### WaitingTime vs Job\n"
   ]
  },
  {
   "cell_type": "code",
   "execution_count": null,
   "metadata": {},
   "outputs": [],
   "source": [
    "plot_waiting_time()"
   ]
  },
  {
   "cell_type": "markdown",
   "metadata": {},
   "source": [
    "### ExecutionTime vs Job\n"
   ]
  },
  {
   "cell_type": "code",
   "execution_count": null,
   "metadata": {},
   "outputs": [],
   "source": [
    "plot_execution_time()\n"
   ]
  },
  {
   "cell_type": "markdown",
   "metadata": {},
   "source": [
    "### TotalTime vs Job\n"
   ]
  },
  {
   "cell_type": "code",
   "execution_count": null,
   "metadata": {},
   "outputs": [],
   "source": [
    "plot_total_time()\n"
   ]
  },
  {
   "cell_type": "markdown",
   "metadata": {},
   "source": [
    "### Workers Resource Utilization Graph\n"
   ]
  },
  {
   "cell_type": "code",
   "execution_count": null,
   "metadata": {},
   "outputs": [],
   "source": [
    "plot_resource_graph()"
   ]
  }
 ],
 "metadata": {
  "kernelspec": {
   "display_name": "Python 2",
   "language": "python",
   "name": "python2"
  },
  "language_info": {
   "codemirror_mode": {
    "name": "ipython",
    "version": 2
   },
   "file_extension": ".py",
   "mimetype": "text/x-python",
   "name": "python",
   "nbconvert_exporter": "python",
   "pygments_lexer": "ipython2",
   "version": "2.7.6"
  }
 },
 "nbformat": 4,
 "nbformat_minor": 0
}
